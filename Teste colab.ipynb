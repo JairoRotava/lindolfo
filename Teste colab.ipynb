{
  "nbformat": 4,
  "nbformat_minor": 0,
  "metadata": {
    "colab": {
      "name": "Teste caio.ipynb",
      "provenance": [],
      "include_colab_link": true
    },
    "kernelspec": {
      "name": "python3",
      "display_name": "Python 3"
    }
  },
  "cells": [
    {
      "cell_type": "markdown",
      "metadata": {
        "id": "view-in-github",
        "colab_type": "text"
      },
      "source": [
        "<a href=\"https://colab.research.google.com/github/JairoRotava/lindolfo/blob/master/Teste%20colab.ipynb\" target=\"_parent\"><img src=\"https://colab.research.google.com/assets/colab-badge.svg\" alt=\"Open In Colab\"/></a>"
      ]
    },
    {
      "cell_type": "code",
      "metadata": {
        "id": "Zvq_VkiDbpWt",
        "colab_type": "code",
        "outputId": "b455a82a-4a5d-4aec-cc0f-e172c3819494",
        "colab": {
          "base_uri": "https://localhost:8080/",
          "height": 34
        }
      },
      "source": [
        "import sys\n",
        "import subprocess\n",
        "import os\n",
        "# Carrega bibliotecas\n",
        "import pandas as pd\n",
        "from datetime import datetime, timedelta\n",
        "import re\n",
        "import logging\n",
        "import matplotlib. pyplot as plt \n",
        "\n",
        "# Informacao para logger\n",
        "logging.basicConfig(level=logging.INFO)\n",
        "logger = logging.getLogger(__name__)\n",
        "\n",
        "\n",
        "# Verifica se esta no colab e instala esses negocios\n",
        "IN_COLAB = 'google.colab' in sys.modules\n",
        "if IN_COLAB:\n",
        "    logger.info('Ambiente Colab detectado. Instalando dependencias')\n",
        "    # Instala yfiance\n",
        "    subprocess.run('pip install yfinance', shell=True)\n",
        "    # # Clona meu repositorio com o codigo desenvolvido\n",
        "    subprocess.run('git clone  https://github.com/JairoRotava/lindolfo.git', shell=True)\n",
        "    os.chdir('./lindolfo')\n",
        "\n",
        "import yfinance as yf\n",
        "import bovespa"
      ],
      "execution_count": 1,
      "outputs": [
        {
          "output_type": "stream",
          "text": [
            "INFO:__main__:Ambiente Colab detectado. Instalando dependencias\n"
          ],
          "name": "stderr"
        }
      ]
    },
    {
      "cell_type": "code",
      "metadata": {
        "id": "27kLnQRUcDmx",
        "colab_type": "code",
        "colab": {}
      },
      "source": [
        "# Coloque o nome das acoes e incial das opcoes aqui\n",
        "papel_acao = 'PETR4'\n",
        "papel_opcoes = ['PETRF', 'PETRE']\n",
        "\n",
        "# Tabela com vencimento de opcoes\n",
        "tabela_vencimento_opcao =  {'A':datetime(2020,1,20), 'B':datetime(2020,2,17), 'C':datetime(2020,3,16),\n",
        "                        'D':datetime(2020,4,20), 'E':datetime(2020,5,18), 'F':datetime(2020,6,15),\n",
        "                        'G':datetime(2020,7,20), 'H':datetime(2020,8,17), 'I':datetime(2020,9,21),\n",
        "                        'J':datetime(2020,10,19), 'K':datetime(2020,11,16), 'L':datetime(2020,12,21),\n",
        "                            }"
      ],
      "execution_count": 0,
      "outputs": []
    },
    {
      "cell_type": "code",
      "metadata": {
        "id": "RU-qtZ3xcLc6",
        "colab_type": "code",
        "colab": {}
      },
      "source": [
        "# Dias que podem ser utilizados para filtrar opcoes\n",
        "ontem = datetime.today() - timedelta(days=1)\n",
        "hoje = datetime.today()\n",
        "\n",
        "# Qual data deve ser utilizada no filtro\n",
        "data_negociacao = hoje\n",
        "\n",
        "# Pega acao e opcao do site do Caio\n",
        "acao = bovespa.get_values(papel_acao)\n",
        "opcao = bovespa.get_values(papel_opcoes, exact=False)"
      ],
      "execution_count": 0,
      "outputs": []
    },
    {
      "cell_type": "code",
      "metadata": {
        "id": "nSsbzNRecO3M",
        "colab_type": "code",
        "outputId": "a9bd1be8-efe8-4ea9-b6d7-fb277b384f25",
        "colab": {
          "base_uri": "https://localhost:8080/",
          "height": 363
        }
      },
      "source": [
        "# Faz processamento da acao e opcao\n",
        "aval_opcoes = bovespa.process(acao, opcao, tabela_vencimento_opcao, filter_date = data_negociacao)\n",
        "# Coloca em ordem crescente de lucro\n",
        "opcoes_ordenadas_lucro = aval_opcoes.sort_values('lucro aa', ascending=False)\n",
        "# Mostra tabela das opçoes\n",
        "display(opcoes_ordenadas_lucro[:10])"
      ],
      "execution_count": 4,
      "outputs": [
        {
          "output_type": "display_data",
          "data": {
            "text/html": [
              "<div>\n",
              "<style scoped>\n",
              "    .dataframe tbody tr th:only-of-type {\n",
              "        vertical-align: middle;\n",
              "    }\n",
              "\n",
              "    .dataframe tbody tr th {\n",
              "        vertical-align: top;\n",
              "    }\n",
              "\n",
              "    .dataframe thead th {\n",
              "        text-align: right;\n",
              "    }\n",
              "</style>\n",
              "<table border=\"1\" class=\"dataframe\">\n",
              "  <thead>\n",
              "    <tr style=\"text-align: right;\">\n",
              "      <th></th>\n",
              "      <th>acao</th>\n",
              "      <th>tipo acao</th>\n",
              "      <th>valor acao</th>\n",
              "      <th>opcao</th>\n",
              "      <th>tipo_opcao</th>\n",
              "      <th>data negociacao</th>\n",
              "      <th>valor opcao</th>\n",
              "      <th>strike</th>\n",
              "      <th>data expiracao</th>\n",
              "      <th>volume</th>\n",
              "      <th>lucro %</th>\n",
              "      <th>lucro aa</th>\n",
              "    </tr>\n",
              "  </thead>\n",
              "  <tbody>\n",
              "    <tr>\n",
              "      <th>24</th>\n",
              "      <td>PETR4 PETROBRAS PN N2</td>\n",
              "      <td>PN</td>\n",
              "      <td>17.75</td>\n",
              "      <td>PETRE177 PETR PN 17,72</td>\n",
              "      <td>PN</td>\n",
              "      <td>07/05</td>\n",
              "      <td>0.76</td>\n",
              "      <td>17.72</td>\n",
              "      <td>18/05</td>\n",
              "      <td>5557.0</td>\n",
              "      <td>4.112676</td>\n",
              "      <td>136.466069</td>\n",
              "    </tr>\n",
              "    <tr>\n",
              "      <th>161</th>\n",
              "      <td>PETR4 PETROBRAS PN N2</td>\n",
              "      <td>PN</td>\n",
              "      <td>17.75</td>\n",
              "      <td>PETRE49 PETRE PN 17,97</td>\n",
              "      <td>PN</td>\n",
              "      <td>07/05</td>\n",
              "      <td>0.64</td>\n",
              "      <td>17.97</td>\n",
              "      <td>18/05</td>\n",
              "      <td>272.0</td>\n",
              "      <td>3.605634</td>\n",
              "      <td>119.641485</td>\n",
              "    </tr>\n",
              "    <tr>\n",
              "      <th>23</th>\n",
              "      <td>PETR4 PETROBRAS PN N2</td>\n",
              "      <td>PN</td>\n",
              "      <td>17.75</td>\n",
              "      <td>PETRE174 PETRE PN 17,47</td>\n",
              "      <td>PN</td>\n",
              "      <td>07/05</td>\n",
              "      <td>0.86</td>\n",
              "      <td>17.47</td>\n",
              "      <td>18/05</td>\n",
              "      <td>554.0</td>\n",
              "      <td>3.267606</td>\n",
              "      <td>108.425096</td>\n",
              "    </tr>\n",
              "    <tr>\n",
              "      <th>22</th>\n",
              "      <td>PETR4 PETROBRAS PN N2</td>\n",
              "      <td>PN</td>\n",
              "      <td>17.75</td>\n",
              "      <td>PETRE172 PETR PN 17,22</td>\n",
              "      <td>PN</td>\n",
              "      <td>07/05</td>\n",
              "      <td>1.07</td>\n",
              "      <td>17.22</td>\n",
              "      <td>18/05</td>\n",
              "      <td>4893.0</td>\n",
              "      <td>3.042254</td>\n",
              "      <td>100.947503</td>\n",
              "    </tr>\n",
              "    <tr>\n",
              "      <th>26</th>\n",
              "      <td>PETR4 PETROBRAS PN N2</td>\n",
              "      <td>PN</td>\n",
              "      <td>17.75</td>\n",
              "      <td>PETRE182 PETR PN 18,22</td>\n",
              "      <td>PN</td>\n",
              "      <td>07/05</td>\n",
              "      <td>0.53</td>\n",
              "      <td>18.22</td>\n",
              "      <td>18/05</td>\n",
              "      <td>7385.0</td>\n",
              "      <td>2.985915</td>\n",
              "      <td>99.078105</td>\n",
              "    </tr>\n",
              "    <tr>\n",
              "      <th>160</th>\n",
              "      <td>PETR4 PETROBRAS PN N2</td>\n",
              "      <td>PN</td>\n",
              "      <td>17.75</td>\n",
              "      <td>PETRE48 PETRE PN 16,97</td>\n",
              "      <td>PN</td>\n",
              "      <td>07/05</td>\n",
              "      <td>1.26</td>\n",
              "      <td>16.97</td>\n",
              "      <td>18/05</td>\n",
              "      <td>615.0</td>\n",
              "      <td>2.704225</td>\n",
              "      <td>89.731114</td>\n",
              "    </tr>\n",
              "    <tr>\n",
              "      <th>27</th>\n",
              "      <td>PETR4 PETROBRAS PN N2</td>\n",
              "      <td>PN</td>\n",
              "      <td>17.75</td>\n",
              "      <td>PETRE184 PETRE PN 18,47</td>\n",
              "      <td>PN</td>\n",
              "      <td>07/05</td>\n",
              "      <td>0.42</td>\n",
              "      <td>18.47</td>\n",
              "      <td>18/05</td>\n",
              "      <td>0.0</td>\n",
              "      <td>2.366197</td>\n",
              "      <td>78.514725</td>\n",
              "    </tr>\n",
              "    <tr>\n",
              "      <th>25</th>\n",
              "      <td>PETR4 PETROBRAS PN N2</td>\n",
              "      <td>PN</td>\n",
              "      <td>17.75</td>\n",
              "      <td>PETRF175 PETRE PN 17,55</td>\n",
              "      <td>PN</td>\n",
              "      <td>07/05</td>\n",
              "      <td>1.56</td>\n",
              "      <td>17.55</td>\n",
              "      <td>15/06</td>\n",
              "      <td>0.0</td>\n",
              "      <td>7.661972</td>\n",
              "      <td>71.708198</td>\n",
              "    </tr>\n",
              "    <tr>\n",
              "      <th>159</th>\n",
              "      <td>PETR4 PETROBRAS PN N2</td>\n",
              "      <td>PN</td>\n",
              "      <td>17.75</td>\n",
              "      <td>PETRE47 PETRE PN 16,47</td>\n",
              "      <td>PN</td>\n",
              "      <td>07/05</td>\n",
              "      <td>1.64</td>\n",
              "      <td>16.47</td>\n",
              "      <td>18/05</td>\n",
              "      <td>210.0</td>\n",
              "      <td>2.028169</td>\n",
              "      <td>67.298335</td>\n",
              "    </tr>\n",
              "    <tr>\n",
              "      <th>29</th>\n",
              "      <td>PETR4 PETROBRAS PN N2</td>\n",
              "      <td>PN</td>\n",
              "      <td>17.75</td>\n",
              "      <td>PETRE187 PETR PN 18,72</td>\n",
              "      <td>PN</td>\n",
              "      <td>07/05</td>\n",
              "      <td>0.35</td>\n",
              "      <td>18.72</td>\n",
              "      <td>18/05</td>\n",
              "      <td>0.0</td>\n",
              "      <td>1.971831</td>\n",
              "      <td>65.428937</td>\n",
              "    </tr>\n",
              "  </tbody>\n",
              "</table>\n",
              "</div>"
            ],
            "text/plain": [
              "                      acao tipo acao  valor acao  ...  volume   lucro %    lucro aa\n",
              "24   PETR4 PETROBRAS PN N2        PN       17.75  ...  5557.0  4.112676  136.466069\n",
              "161  PETR4 PETROBRAS PN N2        PN       17.75  ...   272.0  3.605634  119.641485\n",
              "23   PETR4 PETROBRAS PN N2        PN       17.75  ...   554.0  3.267606  108.425096\n",
              "22   PETR4 PETROBRAS PN N2        PN       17.75  ...  4893.0  3.042254  100.947503\n",
              "26   PETR4 PETROBRAS PN N2        PN       17.75  ...  7385.0  2.985915   99.078105\n",
              "160  PETR4 PETROBRAS PN N2        PN       17.75  ...   615.0  2.704225   89.731114\n",
              "27   PETR4 PETROBRAS PN N2        PN       17.75  ...     0.0  2.366197   78.514725\n",
              "25   PETR4 PETROBRAS PN N2        PN       17.75  ...     0.0  7.661972   71.708198\n",
              "159  PETR4 PETROBRAS PN N2        PN       17.75  ...   210.0  2.028169   67.298335\n",
              "29   PETR4 PETROBRAS PN N2        PN       17.75  ...     0.0  1.971831   65.428937\n",
              "\n",
              "[10 rows x 12 columns]"
            ]
          },
          "metadata": {
            "tags": []
          }
        }
      ]
    },
    {
      "cell_type": "code",
      "metadata": {
        "id": "_dvYbmVkcSmz",
        "colab_type": "code",
        "outputId": "f64292ab-23dd-4874-de73-aeb1b2c04698",
        "colab": {
          "base_uri": "https://localhost:8080/",
          "height": 313
        }
      },
      "source": [
        "# Aqui usa o yahoo finance para pegar historico da acao. Utiliza versao modificada\n",
        "# (no git) pois a original da pau com algumas acoes brasileiras\n",
        "\n",
        "# O ticker precisa de + .SA para funcionar - representa bovespa\n",
        "ticker = yf.Ticker( papel_acao + '.SA')\n",
        "# valid periods: 1d,5d,1mo,3mo,6mo,1y,2y,5y,10y,ytd,max\n",
        "hist = ticker.history(period='3mo')\n",
        "\n",
        "# Mostra grafico\n",
        "ax = plt.gca()\n",
        "hist.plot(y=['Close', 'High', 'Low', 'Close'], ax=ax)\n",
        "hist.plot(secondary_y=True, y='Volume', ax=ax)\n",
        "plt.show()"
      ],
      "execution_count": 5,
      "outputs": [
        {
          "output_type": "stream",
          "text": [
            "INFO:numexpr.utils:NumExpr defaulting to 2 threads.\n"
          ],
          "name": "stderr"
        },
        {
          "output_type": "display_data",
          "data": {
            "image/png": "[encoded data removed]",
            "text/plain": [
              "<Figure size 432x288 with 2 Axes>"
            ]
          },
          "metadata": {
            "tags": [],
            "needs_background": "light"
          }
        }
      ]
    },
    {
      "cell_type": "code",
      "metadata": {
        "id": "na3-eUGQcWKf",
        "colab_type": "code",
        "colab": {}
      },
      "source": [
        ""
      ],
      "execution_count": 0,
      "outputs": []
    }
  ]
}