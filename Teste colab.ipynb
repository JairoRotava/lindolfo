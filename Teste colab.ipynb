{
  "cells": [
    {
      "cell_type": "markdown",
      "metadata": {
        "id": "view-in-github",
        "colab_type": "text"
      },
      "source": [
        "<a href=\"https://colab.research.google.com/github/JairoRotava/lindolfo/blob/master/Teste%20colab.ipynb\" target=\"_parent\"><img src=\"https://colab.research.google.com/assets/colab-badge.svg\" alt=\"Open In Colab\"/></a>"
      ]
    },
    {
      "cell_type": "code",
      "metadata": {
        "id": "Zvq_VkiDbpWt",
        "colab_type": "code",
        "outputId": "b455a82a-4a5d-4aec-cc0f-e172c3819494",
        "colab": {
          "base_uri": "https://localhost:8080/",
          "height": 34
        }
      },
      "source": [
        "import sys\n",
        "import subprocess\n",
        "import os\n",
        "# Carrega bibliotecas\n",
        "import pandas as pd\n",
        "from datetime import datetime, timedelta\n",
        "import re\n",
        "import logging\n",
        "import matplotlib. pyplot as plt \n",
        "\n",
        "# Informacao para logger\n",
        "logging.basicConfig(level=logging.INFO)\n",
        "logger = logging.getLogger(__name__)\n",
        "\n",
        "\n",
        "# Verifica se esta no colab e instala esses negocios\n",
        "IN_COLAB = 'google.colab' in sys.modules\n",
        "if IN_COLAB:\n",
        "    print('Ambiente Colab detectado. Instalando dependencias')\n",
        "    # Instala yfiance\n",
        "    subprocess.run('pip install yfinance', shell=True)\n",
        "    #pip install --upgrade mplfinance\n",
        "    subprocess.run('pip install --upgrade mplfinance', shell=True)\n",
        "    # # Clona meu repositorio com o codigo desenvolvido\n",
        "    subprocess.run('git clone  https://github.com/JairoRotava/lindolfo.git', shell=True)\n",
        "    os.chdir('./lindolfo')\n",
        "\n",
        "import yfinance as yf\n",
        "import bovespa\n",
        "import mplfinance as mpf\n",
        "import ipywidgets as widgets\n",
        "import pandas as pd \n",
        "import numpy as np"
      ],
      "execution_count": 1,
      "outputs": []
    },
    {
      "cell_type": "code",
      "metadata": {
        "id": "27kLnQRUcDmx",
        "colab_type": "code",
        "colab": {}
      },
      "source": [
        "# Coloque o nome das acoes e incial das opcoes aqui\n",
        "papel_acao = 'PETR4'\n",
        "papel_opcoes = ['PETRF', 'PETRE']\n",
        "\n",
        "# Tabela com vencimento de opcoes\n",
        "tabela_vencimento_opcao =  {'A':datetime(2020,1,20), 'B':datetime(2020,2,17), 'C':datetime(2020,3,16),\n",
        "                        'D':datetime(2020,4,20), 'E':datetime(2020,5,18), 'F':datetime(2020,6,15),\n",
        "                        'G':datetime(2020,7,20), 'H':datetime(2020,8,17), 'I':datetime(2020,9,21),\n",
        "                        'J':datetime(2020,10,19), 'K':datetime(2020,11,16), 'L':datetime(2020,12,21),\n",
        "                            }\n",
        "view = bovespa.show_all(papel_acao, papel_opcoes, tabela_vencimento_opcao)\n",
        "display(view)"
      ],
      "execution_count": 3,
      "outputs": [
        {
          "output_type": "display_data",
          "data": {
            "text/plain": "VBox(children=(HBox(children=(Output(), Output())), Output()))",
            "application/vnd.jupyter.widget-view+json": {
              "version_major": 2,
              "version_minor": 0,
              "model_id": "3328de85cdd7474db8c72763946ebd2f"
            }
          },
          "metadata": {}
        }
      ]
    },
    {
      "cell_type": "code",
      "execution_count": null,
      "metadata": {},
      "outputs": [],
      "source": []
    }
  ],
  "metadata": {
    "colab": {
      "name": "Teste caio.ipynb",
      "provenance": [],
      "include_colab_link": true
    },
    "kernelspec": {
      "name": "python3",
      "display_name": "Python 3"
    }
  },
  "nbformat": 4,
  "nbformat_minor": 0
}