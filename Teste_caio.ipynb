{
  "nbformat": 4,
  "nbformat_minor": 0,
  "metadata": {
    "colab": {
      "name": "Teste caio.ipynb",
      "provenance": [],
      "authorship_tag": "ABX9TyPCJYqh13GVlD+jnysEl/AG",
      "include_colab_link": true
    },
    "kernelspec": {
      "name": "python3",
      "display_name": "Python 3"
    }
  },
  "cells": [
    {
      "cell_type": "markdown",
      "metadata": {
        "id": "view-in-github",
        "colab_type": "text"
      },
      "source": [
        "<a href=\"https://colab.research.google.com/github/JairoRotava/lindolfo/blob/master/Teste_caio.ipynb\" target=\"_parent\"><img src=\"https://colab.research.google.com/assets/colab-badge.svg\" alt=\"Open In Colab\"/></a>"
      ]
    },
    {
      "cell_type": "code",
      "metadata": {
        "id": "Zvq_VkiDbpWt",
        "colab_type": "code",
        "colab": {
          "base_uri": "https://localhost:8080/",
          "height": 364
        },
        "outputId": "64ec9298-df66-463e-b9d6-55bb631b7003"
      },
      "source": [
        "# Instala o yfinance para garantir que as biblioteca funcionem\n",
        "!pip install yfinance"
      ],
      "execution_count": 1,
      "outputs": [
        {
          "output_type": "stream",
          "text": [
            "Collecting yfinance\n",
            "  Downloading https://files.pythonhosted.org/packages/c2/31/8b374a12b90def92a4e27d0fc595fc43635f395984e36a075244d98bd265/yfinance-0.1.54.tar.gz\n",
            "Requirement already satisfied: pandas>=0.24 in /usr/local/lib/python3.6/dist-packages (from yfinance) (1.0.3)\n",
            "Requirement already satisfied: numpy>=1.15 in /usr/local/lib/python3.6/dist-packages (from yfinance) (1.18.3)\n",
            "Requirement already satisfied: requests>=2.20 in /usr/local/lib/python3.6/dist-packages (from yfinance) (2.23.0)\n",
            "Requirement already satisfied: multitasking>=0.0.7 in /usr/local/lib/python3.6/dist-packages (from yfinance) (0.0.9)\n",
            "Requirement already satisfied: python-dateutil>=2.6.1 in /usr/local/lib/python3.6/dist-packages (from pandas>=0.24->yfinance) (2.8.1)\n",
            "Requirement already satisfied: pytz>=2017.2 in /usr/local/lib/python3.6/dist-packages (from pandas>=0.24->yfinance) (2018.9)\n",
            "Requirement already satisfied: certifi>=2017.4.17 in /usr/local/lib/python3.6/dist-packages (from requests>=2.20->yfinance) (2020.4.5.1)\n",
            "Requirement already satisfied: idna<3,>=2.5 in /usr/local/lib/python3.6/dist-packages (from requests>=2.20->yfinance) (2.9)\n",
            "Requirement already satisfied: chardet<4,>=3.0.2 in /usr/local/lib/python3.6/dist-packages (from requests>=2.20->yfinance) (3.0.4)\n",
            "Requirement already satisfied: urllib3!=1.25.0,!=1.25.1,<1.26,>=1.21.1 in /usr/local/lib/python3.6/dist-packages (from requests>=2.20->yfinance) (1.24.3)\n",
            "Requirement already satisfied: six>=1.5 in /usr/local/lib/python3.6/dist-packages (from python-dateutil>=2.6.1->pandas>=0.24->yfinance) (1.12.0)\n",
            "Building wheels for collected packages: yfinance\n",
            "  Building wheel for yfinance (setup.py) ... \u001b[?25l\u001b[?25hdone\n",
            "  Created wheel for yfinance: filename=yfinance-0.1.54-py2.py3-none-any.whl size=22409 sha256=b9d3b868942282eae1b010e61dbe10304c89838560d94128b298236162dd8e42\n",
            "  Stored in directory: /root/.cache/pip/wheels/f9/e3/5b/ec24dd2984b12d61e0abf26289746c2436a0e7844f26f2515c\n",
            "Successfully built yfinance\n",
            "Installing collected packages: yfinance\n",
            "Successfully installed yfinance-0.1.54\n"
          ],
          "name": "stdout"
        }
      ]
    },
    {
      "cell_type": "code",
      "metadata": {
        "id": "JouVlFY2xQfa",
        "colab_type": "code",
        "outputId": "9922ee0e-4ef0-40bb-b69b-5d54defc3d86",
        "colab": {
          "base_uri": "https://localhost:8080/",
          "height": 121
        }
      },
      "source": [
        "# Clona meu repositorio com o codigo desenvolvido\n",
        "!git clone  https://github.com/JairoRotava/lindolfo.git"
      ],
      "execution_count": 4,
      "outputs": [
        {
          "output_type": "stream",
          "text": [
            "Cloning into 'lindolfo'...\n",
            "remote: Enumerating objects: 31, done.\u001b[K\n",
            "remote: Counting objects:   3% (1/31)\u001b[K\rremote: Counting objects:   6% (2/31)\u001b[K\rremote: Counting objects:   9% (3/31)\u001b[K\rremote: Counting objects:  12% (4/31)\u001b[K\rremote: Counting objects:  16% (5/31)\u001b[K\rremote: Counting objects:  19% (6/31)\u001b[K\rremote: Counting objects:  22% (7/31)\u001b[K\rremote: Counting objects:  25% (8/31)\u001b[K\rremote: Counting objects:  29% (9/31)\u001b[K\rremote: Counting objects:  32% (10/31)\u001b[K\rremote: Counting objects:  35% (11/31)\u001b[K\rremote: Counting objects:  38% (12/31)\u001b[K\rremote: Counting objects:  41% (13/31)\u001b[K\rremote: Counting objects:  45% (14/31)\u001b[K\rremote: Counting objects:  48% (15/31)\u001b[K\rremote: Counting objects:  51% (16/31)\u001b[K\rremote: Counting objects:  54% (17/31)\u001b[K\rremote: Counting objects:  58% (18/31)\u001b[K\rremote: Counting objects:  61% (19/31)\u001b[K\rremote: Counting objects:  64% (20/31)\u001b[K\rremote: Counting objects:  67% (21/31)\u001b[K\rremote: Counting objects:  70% (22/31)\u001b[K\rremote: Counting objects:  74% (23/31)\u001b[K\rremote: Counting objects:  77% (24/31)\u001b[K\rremote: Counting objects:  80% (25/31)\u001b[K\rremote: Counting objects:  83% (26/31)\u001b[K\rremote: Counting objects:  87% (27/31)\u001b[K\rremote: Counting objects:  90% (28/31)\u001b[K\rremote: Counting objects:  93% (29/31)\u001b[K\rremote: Counting objects:  96% (30/31)\u001b[K\rremote: Counting objects: 100% (31/31)\u001b[K\rremote: Counting objects: 100% (31/31), done.\u001b[K\n",
            "remote: Compressing objects:   4% (1/24)\u001b[K\rremote: Compressing objects:   8% (2/24)\u001b[K\rremote: Compressing objects:  12% (3/24)\u001b[K\rremote: Compressing objects:  16% (4/24)\u001b[K\rremote: Compressing objects:  20% (5/24)\u001b[K\rremote: Compressing objects:  25% (6/24)\u001b[K\rremote: Compressing objects:  29% (7/24)\u001b[K\rremote: Compressing objects:  33% (8/24)\u001b[K\rremote: Compressing objects:  37% (9/24)\u001b[K\rremote: Compressing objects:  41% (10/24)\u001b[K\rremote: Compressing objects:  45% (11/24)\u001b[K\rremote: Compressing objects:  50% (12/24)\u001b[K\rremote: Compressing objects:  54% (13/24)\u001b[K\rremote: Compressing objects:  58% (14/24)\u001b[K\rremote: Compressing objects:  62% (15/24)\u001b[K\rremote: Compressing objects:  66% (16/24)\u001b[K\rremote: Compressing objects:  70% (17/24)\u001b[K\rremote: Compressing objects:  75% (18/24)\u001b[K\rremote: Compressing objects:  79% (19/24)\u001b[K\rremote: Compressing objects:  83% (20/24)\u001b[K\rremote: Compressing objects:  87% (21/24)\u001b[K\rremote: Compressing objects:  91% (22/24)\u001b[K\rremote: Compressing objects:  95% (23/24)\u001b[K\rremote: Compressing objects: 100% (24/24)\u001b[K\rremote: Compressing objects: 100% (24/24), done.\u001b[K\n",
            "Unpacking objects:   3% (1/31)   \rUnpacking objects:   6% (2/31)   \rUnpacking objects:   9% (3/31)   \rUnpacking objects:  12% (4/31)   \rUnpacking objects:  16% (5/31)   \rUnpacking objects:  19% (6/31)   \rUnpacking objects:  22% (7/31)   \rUnpacking objects:  25% (8/31)   \rUnpacking objects:  29% (9/31)   \rUnpacking objects:  32% (10/31)   \rUnpacking objects:  35% (11/31)   \rUnpacking objects:  38% (12/31)   \rUnpacking objects:  41% (13/31)   \rUnpacking objects:  45% (14/31)   \rUnpacking objects:  48% (15/31)   \rUnpacking objects:  51% (16/31)   \rUnpacking objects:  54% (17/31)   \rUnpacking objects:  58% (18/31)   \rUnpacking objects:  61% (19/31)   \rUnpacking objects:  64% (20/31)   \rUnpacking objects:  67% (21/31)   \rUnpacking objects:  70% (22/31)   \rUnpacking objects:  74% (23/31)   \rUnpacking objects:  77% (24/31)   \rUnpacking objects:  80% (25/31)   \rUnpacking objects:  83% (26/31)   \rUnpacking objects:  87% (27/31)   \rUnpacking objects:  90% (28/31)   \rremote: Total 31 (delta 6), reused 31 (delta 6), pack-reused 0\u001b[K\n",
            "Unpacking objects:  93% (29/31)   \rUnpacking objects:  96% (30/31)   \rUnpacking objects: 100% (31/31)   \rUnpacking objects: 100% (31/31), done.\n"
          ],
          "name": "stdout"
        }
      ]
    },
    {
      "cell_type": "code",
      "metadata": {
        "id": "4O8tDx85xV78",
        "colab_type": "code",
        "colab": {
          "base_uri": "https://localhost:8080/",
          "height": 34
        },
        "outputId": "22ea0493-9d70-44ae-f8a9-dc1a2cb74ba0"
      },
      "source": [
        "# Entra na pasta clonada\n",
        "cd lindolfo/"
      ],
      "execution_count": 7,
      "outputs": [
        {
          "output_type": "stream",
          "text": [
            "/content/lindolfo\n"
          ],
          "name": "stdout"
        }
      ]
    },
    {
      "cell_type": "code",
      "metadata": {
        "id": "2Jr76dUrb-8j",
        "colab_type": "code",
        "colab": {
          "base_uri": "https://localhost:8080/",
          "height": 34
        },
        "outputId": "ee67d919-8d6c-404f-b2a5-13266ef45cce"
      },
      "source": [
        "ls"
      ],
      "execution_count": 8,
      "outputs": [
        {
          "output_type": "stream",
          "text": [
            "'avalia acao e opcao.ipynb'   bovespa.py   main.py   teste.ipynb   \u001b[0m\u001b[01;34myfinance\u001b[0m/\n"
          ],
          "name": "stdout"
        }
      ]
    },
    {
      "cell_type": "code",
      "metadata": {
        "id": "27kLnQRUcDmx",
        "colab_type": "code",
        "colab": {}
      },
      "source": [
        "# Coloque o nome das acoes e incial das opcoes aqui\n",
        "papel_acao = 'PETR4'\n",
        "papel_opcoes = 'PETRF1'"
      ],
      "execution_count": 0,
      "outputs": []
    },
    {
      "cell_type": "code",
      "metadata": {
        "id": "kyhmiGvxcJYx",
        "colab_type": "code",
        "colab": {}
      },
      "source": [
        "# Carrega bibliotecas\n",
        "import bovespa\n",
        "import yfinance as yf\n",
        "import pandas as pd\n",
        "from datetime import datetime, timedelta\n",
        "import re\n",
        "import logging\n",
        "import matplotlib. pyplot as plt "
      ],
      "execution_count": 0,
      "outputs": []
    },
    {
      "cell_type": "code",
      "metadata": {
        "id": "RU-qtZ3xcLc6",
        "colab_type": "code",
        "colab": {}
      },
      "source": [
        "# Informacao para logger\n",
        "logging.basicConfig(level=logging.INFO)\n",
        "logger = logging.getLogger(__name__)\n",
        "\n",
        "# Dias que podem ser utilizados para filtrar opcoes\n",
        "ontem = datetime.today() - timedelta(days=1)\n",
        "hoje = datetime.today()\n",
        "\n",
        "# Qual data deve ser utilizada no filtro\n",
        "data_negociacao = hoje\n",
        "\n",
        "\n",
        "# Pega acao e opcao do site do Caio\n",
        "acao = bovespa.get_values(papel_acao)\n",
        "opcao = bovespa.get_values(papel_opcoes, exact=False)"
      ],
      "execution_count": 0,
      "outputs": []
    },
    {
      "cell_type": "code",
      "metadata": {
        "id": "nSsbzNRecO3M",
        "colab_type": "code",
        "colab": {
          "base_uri": "https://localhost:8080/",
          "height": 363
        },
        "outputId": "a0c522de-3427-4f10-a4ce-5151dba0717e"
      },
      "source": [
        "# Faz processamento da acao e opcao\n",
        "aval_opcoes = bovespa.process(acao, opcao, filter_date = data_negociacao)\n",
        "# Coloca em ordem crescente de lucro\n",
        "opcoes_ordenadas_lucro = aval_opcoes.sort_values('lucro %', ascending=False)\n",
        "# Mostra tabela das opçoes\n",
        "display(opcoes_ordenadas_lucro[:10])"
      ],
      "execution_count": 12,
      "outputs": [
        {
          "output_type": "display_data",
          "data": {
            "text/html": [
              "<div>\n",
              "<style scoped>\n",
              "    .dataframe tbody tr th:only-of-type {\n",
              "        vertical-align: middle;\n",
              "    }\n",
              "\n",
              "    .dataframe tbody tr th {\n",
              "        vertical-align: top;\n",
              "    }\n",
              "\n",
              "    .dataframe thead th {\n",
              "        text-align: right;\n",
              "    }\n",
              "</style>\n",
              "<table border=\"1\" class=\"dataframe\">\n",
              "  <thead>\n",
              "    <tr style=\"text-align: right;\">\n",
              "      <th></th>\n",
              "      <th>acao</th>\n",
              "      <th>tipo acao</th>\n",
              "      <th>valor acao</th>\n",
              "      <th>opcao</th>\n",
              "      <th>tipo_opcao</th>\n",
              "      <th>data negociacao</th>\n",
              "      <th>valor opcao</th>\n",
              "      <th>strike</th>\n",
              "      <th>volume</th>\n",
              "      <th>lucro %</th>\n",
              "    </tr>\n",
              "  </thead>\n",
              "  <tbody>\n",
              "    <tr>\n",
              "      <th>26</th>\n",
              "      <td>PETR4 PETROBRAS PN N2</td>\n",
              "      <td>PN</td>\n",
              "      <td>17.75</td>\n",
              "      <td>PETRF178 PETR PN 17,80</td>\n",
              "      <td>PN</td>\n",
              "      <td>07/05</td>\n",
              "      <td>1.45</td>\n",
              "      <td>17.80</td>\n",
              "      <td>0.0</td>\n",
              "      <td>8.169014</td>\n",
              "    </tr>\n",
              "    <tr>\n",
              "      <th>25</th>\n",
              "      <td>PETR4 PETROBRAS PN N2</td>\n",
              "      <td>PN</td>\n",
              "      <td>17.75</td>\n",
              "      <td>PETRF175 PETRE PN 17,55</td>\n",
              "      <td>PN</td>\n",
              "      <td>07/05</td>\n",
              "      <td>1.52</td>\n",
              "      <td>17.55</td>\n",
              "      <td>0.0</td>\n",
              "      <td>7.436620</td>\n",
              "    </tr>\n",
              "    <tr>\n",
              "      <th>28</th>\n",
              "      <td>PETR4 PETROBRAS PN N2</td>\n",
              "      <td>PN</td>\n",
              "      <td>17.75</td>\n",
              "      <td>PETRF180 PETRE PN 18,05</td>\n",
              "      <td>PN</td>\n",
              "      <td>07/05</td>\n",
              "      <td>1.30</td>\n",
              "      <td>18.05</td>\n",
              "      <td>0.0</td>\n",
              "      <td>7.323944</td>\n",
              "    </tr>\n",
              "    <tr>\n",
              "      <th>24</th>\n",
              "      <td>PETR4 PETROBRAS PN N2</td>\n",
              "      <td>PN</td>\n",
              "      <td>17.75</td>\n",
              "      <td>PETRF173 PETR PN 17,30</td>\n",
              "      <td>PN</td>\n",
              "      <td>07/05</td>\n",
              "      <td>1.72</td>\n",
              "      <td>17.30</td>\n",
              "      <td>149.0</td>\n",
              "      <td>7.154930</td>\n",
              "    </tr>\n",
              "    <tr>\n",
              "      <th>30</th>\n",
              "      <td>PETR4 PETROBRAS PN N2</td>\n",
              "      <td>PN</td>\n",
              "      <td>17.75</td>\n",
              "      <td>PETRF183 PETR PN 18,30</td>\n",
              "      <td>PN</td>\n",
              "      <td>07/05</td>\n",
              "      <td>1.21</td>\n",
              "      <td>18.30</td>\n",
              "      <td>0.0</td>\n",
              "      <td>6.816901</td>\n",
              "    </tr>\n",
              "    <tr>\n",
              "      <th>22</th>\n",
              "      <td>PETR4 PETROBRAS PN N2</td>\n",
              "      <td>PN</td>\n",
              "      <td>17.75</td>\n",
              "      <td>PETRF170 PETRE PN 17,05</td>\n",
              "      <td>PN</td>\n",
              "      <td>07/05</td>\n",
              "      <td>1.87</td>\n",
              "      <td>17.05</td>\n",
              "      <td>111.0</td>\n",
              "      <td>6.591549</td>\n",
              "    </tr>\n",
              "    <tr>\n",
              "      <th>31</th>\n",
              "      <td>PETR4 PETROBRAS PN N2</td>\n",
              "      <td>PN</td>\n",
              "      <td>17.75</td>\n",
              "      <td>PETRF185 PETRE PN 18,55</td>\n",
              "      <td>PN</td>\n",
              "      <td>07/05</td>\n",
              "      <td>1.10</td>\n",
              "      <td>18.55</td>\n",
              "      <td>0.0</td>\n",
              "      <td>6.197183</td>\n",
              "    </tr>\n",
              "    <tr>\n",
              "      <th>21</th>\n",
              "      <td>PETR4 PETROBRAS PN N2</td>\n",
              "      <td>PN</td>\n",
              "      <td>17.75</td>\n",
              "      <td>PETRF168 PETR PN 16,80</td>\n",
              "      <td>PN</td>\n",
              "      <td>07/05</td>\n",
              "      <td>2.03</td>\n",
              "      <td>16.80</td>\n",
              "      <td>0.0</td>\n",
              "      <td>6.084507</td>\n",
              "    </tr>\n",
              "    <tr>\n",
              "      <th>32</th>\n",
              "      <td>PETR4 PETROBRAS PN N2</td>\n",
              "      <td>PN</td>\n",
              "      <td>17.75</td>\n",
              "      <td>PETRF188 PETR PN 18,80</td>\n",
              "      <td>PN</td>\n",
              "      <td>07/05</td>\n",
              "      <td>0.98</td>\n",
              "      <td>18.80</td>\n",
              "      <td>0.0</td>\n",
              "      <td>5.521127</td>\n",
              "    </tr>\n",
              "    <tr>\n",
              "      <th>34</th>\n",
              "      <td>PETR4 PETROBRAS PN N2</td>\n",
              "      <td>PN</td>\n",
              "      <td>17.75</td>\n",
              "      <td>PETRF190 PETRE PN 19,05</td>\n",
              "      <td>PN</td>\n",
              "      <td>07/05</td>\n",
              "      <td>0.90</td>\n",
              "      <td>19.05</td>\n",
              "      <td>7.0</td>\n",
              "      <td>5.070423</td>\n",
              "    </tr>\n",
              "  </tbody>\n",
              "</table>\n",
              "</div>"
            ],
            "text/plain": [
              "                     acao tipo acao  valor acao  ... strike volume   lucro %\n",
              "26  PETR4 PETROBRAS PN N2        PN       17.75  ...  17.80    0.0  8.169014\n",
              "25  PETR4 PETROBRAS PN N2        PN       17.75  ...  17.55    0.0  7.436620\n",
              "28  PETR4 PETROBRAS PN N2        PN       17.75  ...  18.05    0.0  7.323944\n",
              "24  PETR4 PETROBRAS PN N2        PN       17.75  ...  17.30  149.0  7.154930\n",
              "30  PETR4 PETROBRAS PN N2        PN       17.75  ...  18.30    0.0  6.816901\n",
              "22  PETR4 PETROBRAS PN N2        PN       17.75  ...  17.05  111.0  6.591549\n",
              "31  PETR4 PETROBRAS PN N2        PN       17.75  ...  18.55    0.0  6.197183\n",
              "21  PETR4 PETROBRAS PN N2        PN       17.75  ...  16.80    0.0  6.084507\n",
              "32  PETR4 PETROBRAS PN N2        PN       17.75  ...  18.80    0.0  5.521127\n",
              "34  PETR4 PETROBRAS PN N2        PN       17.75  ...  19.05    7.0  5.070423\n",
              "\n",
              "[10 rows x 10 columns]"
            ]
          },
          "metadata": {
            "tags": []
          }
        }
      ]
    },
    {
      "cell_type": "code",
      "metadata": {
        "id": "_dvYbmVkcSmz",
        "colab_type": "code",
        "colab": {
          "base_uri": "https://localhost:8080/",
          "height": 313
        },
        "outputId": "8e613e7b-20e1-4f5d-c411-5a054f9767ac"
      },
      "source": [
        "# Aqui usa o yahoo finance para pegar historico da acao. Utiliza versao modificada\n",
        "# (no git) pois a original da pau com algumas acoes brasileiras\n",
        "\n",
        "# O ticker precisa de + .SA para funcionar - representa bovespa\n",
        "ticker = yf.Ticker( papel_acao + '.SA')\n",
        "# valid periods: 1d,5d,1mo,3mo,6mo,1y,2y,5y,10y,ytd,max\n",
        "hist = ticker.history(period='3mo')\n",
        "\n",
        "# Mostra grafico\n",
        "ax = plt.gca()\n",
        "hist.plot(y=['Close', 'High', 'Low', 'Close'], ax=ax)\n",
        "hist.plot(secondary_y=True, y='Volume', ax=ax)\n",
        "plt.show()"
      ],
      "execution_count": 13,
      "outputs": [
        {
          "output_type": "stream",
          "text": [
            "INFO:numexpr.utils:NumExpr defaulting to 2 threads.\n"
          ],
          "name": "stderr"
        },
        {
          "output_type": "display_data",
          "data": {
            "image/png": "[encoded data removed]",
            "text/plain": [
              "<Figure size 432x288 with 2 Axes>"
            ]
          },
          "metadata": {
            "tags": [],
            "needs_background": "light"
          }
        }
      ]
    },
    {
      "cell_type": "code",
      "metadata": {
        "id": "na3-eUGQcWKf",
        "colab_type": "code",
        "colab": {}
      },
      "source": [
        ""
      ],
      "execution_count": 0,
      "outputs": []
    }
  ]
}