{
 "cells": [
  {
   "cell_type": "code",
   "execution_count": 74,
   "metadata": {},
   "outputs": [],
   "source": [
    "import bovespa\n",
    "import pandas as pd\n",
    "from datetime import datetime, timedelta\n",
    "import re"
   ]
  },
  {
   "cell_type": "code",
   "execution_count": 55,
   "metadata": {},
   "outputs": [
    {
     "output_type": "stream",
     "name": "stdout",
     "text": "Acao:\n\n"
    },
    {
     "output_type": "display_data",
     "data": {
      "text/plain": "   Papel        Descrição         Data  Último    Neg          R$    Var\n0  PETR4  PETROBRAS PN N2  06/05 17:59   17.24  80730  1.143.831K  -3,9%",
      "text/html": "<div>\n<style scoped>\n    .dataframe tbody tr th:only-of-type {\n        vertical-align: middle;\n    }\n\n    .dataframe tbody tr th {\n        vertical-align: top;\n    }\n\n    .dataframe thead th {\n        text-align: right;\n    }\n</style>\n<table border=\"1\" class=\"dataframe\">\n  <thead>\n    <tr style=\"text-align: right;\">\n      <th></th>\n      <th>Papel</th>\n      <th>Descrição</th>\n      <th>Data</th>\n      <th>Último</th>\n      <th>Neg</th>\n      <th>R$</th>\n      <th>Var</th>\n    </tr>\n  </thead>\n  <tbody>\n    <tr>\n      <td>0</td>\n      <td>PETR4</td>\n      <td>PETROBRAS PN N2</td>\n      <td>06/05 17:59</td>\n      <td>17.24</td>\n      <td>80730</td>\n      <td>1.143.831K</td>\n      <td>-3,9%</td>\n    </tr>\n  </tbody>\n</table>\n</div>"
     },
     "metadata": {}
    }
   ],
   "source": [
    "acao = 'PETR4'\n",
    "opcoes = 'PETRF1'\n",
    "data_vencimento_opcoes = '2020/16/01'\n",
    "\n",
    "acao = bovespa.get_values(acao)\n",
    "print('Acao:\\n')\n",
    "display(acao)"
   ]
  },
  {
   "cell_type": "code",
   "execution_count": 56,
   "metadata": {},
   "outputs": [
    {
     "output_type": "stream",
     "name": "stdout",
     "text": "Opcao:\n\n"
    },
    {
     "output_type": "display_data",
     "data": {
      "text/plain": "       Papel           Descrição         Data  Último  Neg      R$      Var\n0     PETRF1       PETR PN 26,30  06/05 16:36    0.06    2      0K      +0%\n1   PETRF113       PETR PN 11,30  06/05 16:00    6.36    3      0K   -9,14%\n2   PETRF118       PETR PN 11,80  06/05 16:01    5.92    6      0K  -11,64%\n3   PETRF119  PETRE /EJ PN 11,90  16/05 12:24   13.95   18     25K   -1,34%\n4   PETRF123       PETR PN 12,30  06/05 15:20    5.44    4      0K  -12,26%\n5   PETRF133       PETR PN 13,30  06/05 15:08    4.45   39      0K     -11%\n6   PETRF135       PETR PN 12,80  06/05 16:47    4.88   56     40K  -13,78%\n7   PETRF138       PETR PN 13,80  06/05 15:42    4.06   51      0K  -17,48%\n8   PETRF140      PETRE PN 14,05  06/05 16:48    3.85  122      0K  -13,29%\n9   PETRF143       PETR PN 14,30  06/05 16:47    3.62   46      0K  -18,47%\n10  PETRF145      PETRE PN 14,55  06/05 15:50    3.52   13      0K  -16,59%\n11  PETRF150      PETRE PN 15,05  06/05 16:51    2.98   30      0K  -14,12%\n12  PETRF153       PETR PN 15,30  06/05 16:42    2.80  164      0K  -15,15%\n13  PETRF155       PETR PN 14,80  06/05 16:45    3.20   17     36K  -17,95%\n14  PETRF156      PETRE PN 15,55  06/05 16:29    2.66   39      0K   -18,9%\n15  PETRF157  PETRE /EJ PN 14,90  30/05 14:13   11.88    4    558K  -18,13%\n16  PETRF158       PETR PN 15,80  06/05 16:52    2.46  165      0K  -18,54%\n17  PETRF159   PETR /EJ PN 15,15  12/06 14:10   11.87    8    291K   +1,19%\n18  PETRF160      PETRE PN 16,05  06/05 16:43    2.28   95      0K  -23,23%\n19  PETRF163       PETR PN 16,30  06/05 17:15    2.09  114      0K  -19,92%\n20  PETRF165      PETRE PN 16,55  06/05 16:40    1.97   41      0K  -18,93%\n21  PETRF168       PETR PN 16,80  06/05 16:46    1.79  217      0K  -23,18%\n22  PETRF170      PETRE PN 17,05  06/05 16:50    1.65  275    222K  -20,67%\n23  PETRF171  PETRE /EJ PN 16,40  17/05 15:11    8.50    1      3K    -7,1%\n24  PETRF173       PETR PN 17,30  06/05 16:52    1.52  154    294K  -23,62%\n25  PETRF175      PETRE PN 17,55  06/05 16:52    1.38   48      0K  -22,47%\n26  PETRF178       PETR PN 17,80  06/05 17:15    1.39  202      0K  -14,72%\n27   PETRF18       PETR ON 18,00  06/05 14:20    1.58    2      3K  -28,18%\n28  PETRF180      PETRE PN 18,05  06/05 17:15    1.15  343      0K  -26,28%\n29  PETRF182   PETR /EJ PN 18,15  11/06 13:45    8.73    2     43K   +1,51%\n30  PETRF183       PETR PN 18,30  06/05 17:15    1.06  300      0K  -25,35%\n31  PETRF185      PETRE PN 18,55  06/05 16:42    0.95   58      0K     -24%\n32  PETRF188       PETR PN 18,80  06/05 16:54    0.89  387      0K  -22,61%\n33   PETRF19       PETR ON 19,00  06/05 15:43    1.11    2      1K  -31,48%\n34  PETRF190      PETRE PN 19,05  06/05 16:50    0.78  150    261K  -27,78%\n35  PETRF192   PETR /EJ PN 19,15  13/06 15:40    8.10    1  1.387K   +4,52%\n36  PETRF193       PETR PN 19,30  06/05 17:15    0.70  230      0K  -27,84%\n37  PETRF198       PETR PN 19,80  06/05 17:15    0.56  230      0K  -21,13%",
      "text/html": "<div>\n<style scoped>\n    .dataframe tbody tr th:only-of-type {\n        vertical-align: middle;\n    }\n\n    .dataframe tbody tr th {\n        vertical-align: top;\n    }\n\n    .dataframe thead th {\n        text-align: right;\n    }\n</style>\n<table border=\"1\" class=\"dataframe\">\n  <thead>\n    <tr style=\"text-align: right;\">\n      <th></th>\n      <th>Papel</th>\n      <th>Descrição</th>\n      <th>Data</th>\n      <th>Último</th>\n      <th>Neg</th>\n      <th>R$</th>\n      <th>Var</th>\n    </tr>\n  </thead>\n  <tbody>\n    <tr>\n      <td>0</td>\n      <td>PETRF1</td>\n      <td>PETR PN 26,30</td>\n      <td>06/05 16:36</td>\n      <td>0.06</td>\n      <td>2</td>\n      <td>0K</td>\n      <td>+0%</td>\n    </tr>\n    <tr>\n      <td>1</td>\n      <td>PETRF113</td>\n      <td>PETR PN 11,30</td>\n      <td>06/05 16:00</td>\n      <td>6.36</td>\n      <td>3</td>\n      <td>0K</td>\n      <td>-9,14%</td>\n    </tr>\n    <tr>\n      <td>2</td>\n      <td>PETRF118</td>\n      <td>PETR PN 11,80</td>\n      <td>06/05 16:01</td>\n      <td>5.92</td>\n      <td>6</td>\n      <td>0K</td>\n      <td>-11,64%</td>\n    </tr>\n    <tr>\n      <td>3</td>\n      <td>PETRF119</td>\n      <td>PETRE /EJ PN 11,90</td>\n      <td>16/05 12:24</td>\n      <td>13.95</td>\n      <td>18</td>\n      <td>25K</td>\n      <td>-1,34%</td>\n    </tr>\n    <tr>\n      <td>4</td>\n      <td>PETRF123</td>\n      <td>PETR PN 12,30</td>\n      <td>06/05 15:20</td>\n      <td>5.44</td>\n      <td>4</td>\n      <td>0K</td>\n      <td>-12,26%</td>\n    </tr>\n    <tr>\n      <td>5</td>\n      <td>PETRF133</td>\n      <td>PETR PN 13,30</td>\n      <td>06/05 15:08</td>\n      <td>4.45</td>\n      <td>39</td>\n      <td>0K</td>\n      <td>-11%</td>\n    </tr>\n    <tr>\n      <td>6</td>\n      <td>PETRF135</td>\n      <td>PETR PN 12,80</td>\n      <td>06/05 16:47</td>\n      <td>4.88</td>\n      <td>56</td>\n      <td>40K</td>\n      <td>-13,78%</td>\n    </tr>\n    <tr>\n      <td>7</td>\n      <td>PETRF138</td>\n      <td>PETR PN 13,80</td>\n      <td>06/05 15:42</td>\n      <td>4.06</td>\n      <td>51</td>\n      <td>0K</td>\n      <td>-17,48%</td>\n    </tr>\n    <tr>\n      <td>8</td>\n      <td>PETRF140</td>\n      <td>PETRE PN 14,05</td>\n      <td>06/05 16:48</td>\n      <td>3.85</td>\n      <td>122</td>\n      <td>0K</td>\n      <td>-13,29%</td>\n    </tr>\n    <tr>\n      <td>9</td>\n      <td>PETRF143</td>\n      <td>PETR PN 14,30</td>\n      <td>06/05 16:47</td>\n      <td>3.62</td>\n      <td>46</td>\n      <td>0K</td>\n      <td>-18,47%</td>\n    </tr>\n    <tr>\n      <td>10</td>\n      <td>PETRF145</td>\n      <td>PETRE PN 14,55</td>\n      <td>06/05 15:50</td>\n      <td>3.52</td>\n      <td>13</td>\n      <td>0K</td>\n      <td>-16,59%</td>\n    </tr>\n    <tr>\n      <td>11</td>\n      <td>PETRF150</td>\n      <td>PETRE PN 15,05</td>\n      <td>06/05 16:51</td>\n      <td>2.98</td>\n      <td>30</td>\n      <td>0K</td>\n      <td>-14,12%</td>\n    </tr>\n    <tr>\n      <td>12</td>\n      <td>PETRF153</td>\n      <td>PETR PN 15,30</td>\n      <td>06/05 16:42</td>\n      <td>2.80</td>\n      <td>164</td>\n      <td>0K</td>\n      <td>-15,15%</td>\n    </tr>\n    <tr>\n      <td>13</td>\n      <td>PETRF155</td>\n      <td>PETR PN 14,80</td>\n      <td>06/05 16:45</td>\n      <td>3.20</td>\n      <td>17</td>\n      <td>36K</td>\n      <td>-17,95%</td>\n    </tr>\n    <tr>\n      <td>14</td>\n      <td>PETRF156</td>\n      <td>PETRE PN 15,55</td>\n      <td>06/05 16:29</td>\n      <td>2.66</td>\n      <td>39</td>\n      <td>0K</td>\n      <td>-18,9%</td>\n    </tr>\n    <tr>\n      <td>15</td>\n      <td>PETRF157</td>\n      <td>PETRE /EJ PN 14,90</td>\n      <td>30/05 14:13</td>\n      <td>11.88</td>\n      <td>4</td>\n      <td>558K</td>\n      <td>-18,13%</td>\n    </tr>\n    <tr>\n      <td>16</td>\n      <td>PETRF158</td>\n      <td>PETR PN 15,80</td>\n      <td>06/05 16:52</td>\n      <td>2.46</td>\n      <td>165</td>\n      <td>0K</td>\n      <td>-18,54%</td>\n    </tr>\n    <tr>\n      <td>17</td>\n      <td>PETRF159</td>\n      <td>PETR /EJ PN 15,15</td>\n      <td>12/06 14:10</td>\n      <td>11.87</td>\n      <td>8</td>\n      <td>291K</td>\n      <td>+1,19%</td>\n    </tr>\n    <tr>\n      <td>18</td>\n      <td>PETRF160</td>\n      <td>PETRE PN 16,05</td>\n      <td>06/05 16:43</td>\n      <td>2.28</td>\n      <td>95</td>\n      <td>0K</td>\n      <td>-23,23%</td>\n    </tr>\n    <tr>\n      <td>19</td>\n      <td>PETRF163</td>\n      <td>PETR PN 16,30</td>\n      <td>06/05 17:15</td>\n      <td>2.09</td>\n      <td>114</td>\n      <td>0K</td>\n      <td>-19,92%</td>\n    </tr>\n    <tr>\n      <td>20</td>\n      <td>PETRF165</td>\n      <td>PETRE PN 16,55</td>\n      <td>06/05 16:40</td>\n      <td>1.97</td>\n      <td>41</td>\n      <td>0K</td>\n      <td>-18,93%</td>\n    </tr>\n    <tr>\n      <td>21</td>\n      <td>PETRF168</td>\n      <td>PETR PN 16,80</td>\n      <td>06/05 16:46</td>\n      <td>1.79</td>\n      <td>217</td>\n      <td>0K</td>\n      <td>-23,18%</td>\n    </tr>\n    <tr>\n      <td>22</td>\n      <td>PETRF170</td>\n      <td>PETRE PN 17,05</td>\n      <td>06/05 16:50</td>\n      <td>1.65</td>\n      <td>275</td>\n      <td>222K</td>\n      <td>-20,67%</td>\n    </tr>\n    <tr>\n      <td>23</td>\n      <td>PETRF171</td>\n      <td>PETRE /EJ PN 16,40</td>\n      <td>17/05 15:11</td>\n      <td>8.50</td>\n      <td>1</td>\n      <td>3K</td>\n      <td>-7,1%</td>\n    </tr>\n    <tr>\n      <td>24</td>\n      <td>PETRF173</td>\n      <td>PETR PN 17,30</td>\n      <td>06/05 16:52</td>\n      <td>1.52</td>\n      <td>154</td>\n      <td>294K</td>\n      <td>-23,62%</td>\n    </tr>\n    <tr>\n      <td>25</td>\n      <td>PETRF175</td>\n      <td>PETRE PN 17,55</td>\n      <td>06/05 16:52</td>\n      <td>1.38</td>\n      <td>48</td>\n      <td>0K</td>\n      <td>-22,47%</td>\n    </tr>\n    <tr>\n      <td>26</td>\n      <td>PETRF178</td>\n      <td>PETR PN 17,80</td>\n      <td>06/05 17:15</td>\n      <td>1.39</td>\n      <td>202</td>\n      <td>0K</td>\n      <td>-14,72%</td>\n    </tr>\n    <tr>\n      <td>27</td>\n      <td>PETRF18</td>\n      <td>PETR ON 18,00</td>\n      <td>06/05 14:20</td>\n      <td>1.58</td>\n      <td>2</td>\n      <td>3K</td>\n      <td>-28,18%</td>\n    </tr>\n    <tr>\n      <td>28</td>\n      <td>PETRF180</td>\n      <td>PETRE PN 18,05</td>\n      <td>06/05 17:15</td>\n      <td>1.15</td>\n      <td>343</td>\n      <td>0K</td>\n      <td>-26,28%</td>\n    </tr>\n    <tr>\n      <td>29</td>\n      <td>PETRF182</td>\n      <td>PETR /EJ PN 18,15</td>\n      <td>11/06 13:45</td>\n      <td>8.73</td>\n      <td>2</td>\n      <td>43K</td>\n      <td>+1,51%</td>\n    </tr>\n    <tr>\n      <td>30</td>\n      <td>PETRF183</td>\n      <td>PETR PN 18,30</td>\n      <td>06/05 17:15</td>\n      <td>1.06</td>\n      <td>300</td>\n      <td>0K</td>\n      <td>-25,35%</td>\n    </tr>\n    <tr>\n      <td>31</td>\n      <td>PETRF185</td>\n      <td>PETRE PN 18,55</td>\n      <td>06/05 16:42</td>\n      <td>0.95</td>\n      <td>58</td>\n      <td>0K</td>\n      <td>-24%</td>\n    </tr>\n    <tr>\n      <td>32</td>\n      <td>PETRF188</td>\n      <td>PETR PN 18,80</td>\n      <td>06/05 16:54</td>\n      <td>0.89</td>\n      <td>387</td>\n      <td>0K</td>\n      <td>-22,61%</td>\n    </tr>\n    <tr>\n      <td>33</td>\n      <td>PETRF19</td>\n      <td>PETR ON 19,00</td>\n      <td>06/05 15:43</td>\n      <td>1.11</td>\n      <td>2</td>\n      <td>1K</td>\n      <td>-31,48%</td>\n    </tr>\n    <tr>\n      <td>34</td>\n      <td>PETRF190</td>\n      <td>PETRE PN 19,05</td>\n      <td>06/05 16:50</td>\n      <td>0.78</td>\n      <td>150</td>\n      <td>261K</td>\n      <td>-27,78%</td>\n    </tr>\n    <tr>\n      <td>35</td>\n      <td>PETRF192</td>\n      <td>PETR /EJ PN 19,15</td>\n      <td>13/06 15:40</td>\n      <td>8.10</td>\n      <td>1</td>\n      <td>1.387K</td>\n      <td>+4,52%</td>\n    </tr>\n    <tr>\n      <td>36</td>\n      <td>PETRF193</td>\n      <td>PETR PN 19,30</td>\n      <td>06/05 17:15</td>\n      <td>0.70</td>\n      <td>230</td>\n      <td>0K</td>\n      <td>-27,84%</td>\n    </tr>\n    <tr>\n      <td>37</td>\n      <td>PETRF198</td>\n      <td>PETR PN 19,80</td>\n      <td>06/05 17:15</td>\n      <td>0.56</td>\n      <td>230</td>\n      <td>0K</td>\n      <td>-21,13%</td>\n    </tr>\n  </tbody>\n</table>\n</div>"
     },
     "metadata": {}
    }
   ],
   "source": [
    "# Separar ticker, descricao, data, valor\n",
    "opcao = bovespa.get_values(opcoes, exact=False)\n",
    "print('Opcao:\\n')\n",
    "display(opcao)"
   ]
  },
  {
   "cell_type": "code",
   "execution_count": 71,
   "metadata": {},
   "outputs": [],
   "source": [
    "# Processa opção\n",
    "def proc(acao, opcao, filter_type=True, filter_date=None):\n",
    "    def find_type(description):\n",
    "        if any('PN'==s for s in description):\n",
    "            return('PN')\n",
    "        elif any('ON'==s for s in description):\n",
    "            return('ON')\n",
    "        else:\n",
    "            return('')\n",
    "\n",
    "    ignored = False\n",
    "    nome_acao = acao.iloc[0]['Papel']\n",
    "    valor_acao = acao.iloc[0]['Último']\n",
    "    descricao_acao = acao.iloc[0]['Descrição'].split()\n",
    "    tipo_acao = find_type(descricao_acao)\n",
    "    #descricao_acao[1]\n",
    "\n",
    "    df = pd.DataFrame(columns=['acao', 'tipo acao', 'valor acao','opcao', 'tipo_opcao', 'valor opcao','strike', 'volume', 'lucro %'])\n",
    "    for index, row in opcao.iterrows():\n",
    "        nome_opcao = row['Papel']\n",
    "        descricao_opcao = row['Descrição'].split()\n",
    "        strike_opcao = float(descricao_opcao[-1].replace(',','.'))\n",
    "        tipo_opcao = find_type(descricao_opcao)\n",
    "\n",
    "        # Ignora opcoes de tipos diferentes (PN e ON)\n",
    "        # TODO: Muito sujeito a dar pau isso aqui\n",
    "        if tipo_acao != tipo_opcao:\n",
    "            print('Ignorando opcao {} {} devido tipo diferente'.format(nome_opcao,' '.join(descricao_opcao)))\n",
    "            continue\n",
    "\n",
    "        # Descarta opcoes de dias antigos\n",
    "        data_hora = row['Data']\n",
    "        data = datetime.strptime(data_hora,  \"%d/%m\\xa0%H:%M\")\n",
    "        #now = datetime.now()\n",
    "        now = filter_date\n",
    "        if filter_date is not None:\n",
    "            if data.month != now.month or data.day != now.day:\n",
    "                print('Ignorando opcao {} {} devido data antiga'.format(nome_opcao,' '.join(descricao_opcao)))\n",
    "                continue\n",
    "\n",
    "\n",
    "        valor_opcao = row['Último']        \n",
    "        volume_opcao = float(re.sub('\\D','',row['R$']))\n",
    "        if strike_opcao >= valor_acao:\n",
    "            lucro = valor_opcao\n",
    "        else:\n",
    "            lucro = strike_opcao - valor_acao + valor_opcao\n",
    "        p_lucro = (lucro / valor_acao) * 100\n",
    "\n",
    "        #df = pd.DataFrame({'acao':[nome_acao], 'valor acao':[valor_acao], 'opcao':[nome_opcao], 'valor opcao':[valor_opcao],                    'strike':strike_opcao, 'lucro %':p_lucro})\n",
    "        df.loc[index] = [nome_acao + ' ' + ' '.join(descricao_acao), tipo_acao, valor_acao, nome_opcao + ' ' + ' '.join(descricao_opcao), tipo_opcao, valor_opcao,strike_opcao, volume_opcao, p_lucro]\n",
    " \n",
    "    return df"
   ]
  },
  {
   "cell_type": "code",
   "execution_count": 75,
   "metadata": {},
   "outputs": [
    {
     "output_type": "stream",
     "name": "stdout",
     "text": "Ignorando opcao PETRF119 PETRE /EJ PN 11,90 foi ignorada devido data antiga\nIgnorando opcao PETRF157 PETRE /EJ PN 14,90 foi ignorada devido data antiga\nIgnorando opcao PETRF159 PETR /EJ PN 15,15 foi ignorada devido data antiga\nIgnorando opcao PETRF171 PETRE /EJ PN 16,40 foi ignorada devido data antiga\nIgnorando opcao PETRF18 PETR ON 18,00 devido tipo diferente\nIgnorando opcao PETRF182 PETR /EJ PN 18,15 foi ignorada devido data antiga\nIgnorando opcao PETRF19 PETR ON 19,00 devido tipo diferente\nIgnorando opcao PETRF192 PETR /EJ PN 19,15 foi ignorada devido data antiga\n"
    },
    {
     "output_type": "execute_result",
     "data": {
      "text/plain": "                     acao tipo acao  valor acao                    opcao  \\\n24  PETR4 PETROBRAS PN N2        PN       17.24   PETRF173 PETR PN 17,30   \n22  PETR4 PETROBRAS PN N2        PN       17.24  PETRF170 PETRE PN 17,05   \n26  PETR4 PETROBRAS PN N2        PN       17.24   PETRF178 PETR PN 17,80   \n25  PETR4 PETROBRAS PN N2        PN       17.24  PETRF175 PETRE PN 17,55   \n21  PETR4 PETROBRAS PN N2        PN       17.24   PETRF168 PETR PN 16,80   \n20  PETR4 PETROBRAS PN N2        PN       17.24  PETRF165 PETRE PN 16,55   \n19  PETR4 PETROBRAS PN N2        PN       17.24   PETRF163 PETR PN 16,30   \n28  PETR4 PETROBRAS PN N2        PN       17.24  PETRF180 PETRE PN 18,05   \n18  PETR4 PETROBRAS PN N2        PN       17.24  PETRF160 PETRE PN 16,05   \n30  PETR4 PETROBRAS PN N2        PN       17.24   PETRF183 PETR PN 18,30   \n16  PETR4 PETROBRAS PN N2        PN       17.24   PETRF158 PETR PN 15,80   \n14  PETR4 PETROBRAS PN N2        PN       17.24  PETRF156 PETRE PN 15,55   \n31  PETR4 PETROBRAS PN N2        PN       17.24  PETRF185 PETRE PN 18,55   \n32  PETR4 PETROBRAS PN N2        PN       17.24   PETRF188 PETR PN 18,80   \n12  PETR4 PETROBRAS PN N2        PN       17.24   PETRF153 PETR PN 15,30   \n10  PETR4 PETROBRAS PN N2        PN       17.24  PETRF145 PETRE PN 14,55   \n11  PETR4 PETROBRAS PN N2        PN       17.24  PETRF150 PETRE PN 15,05   \n34  PETR4 PETROBRAS PN N2        PN       17.24  PETRF190 PETRE PN 19,05   \n13  PETR4 PETROBRAS PN N2        PN       17.24   PETRF155 PETR PN 14,80   \n36  PETR4 PETROBRAS PN N2        PN       17.24   PETRF193 PETR PN 19,30   \n9   PETR4 PETROBRAS PN N2        PN       17.24   PETRF143 PETR PN 14,30   \n8   PETR4 PETROBRAS PN N2        PN       17.24  PETRF140 PETRE PN 14,05   \n7   PETR4 PETROBRAS PN N2        PN       17.24   PETRF138 PETR PN 13,80   \n37  PETR4 PETROBRAS PN N2        PN       17.24   PETRF198 PETR PN 19,80   \n5   PETR4 PETROBRAS PN N2        PN       17.24   PETRF133 PETR PN 13,30   \n4   PETR4 PETROBRAS PN N2        PN       17.24   PETRF123 PETR PN 12,30   \n2   PETR4 PETROBRAS PN N2        PN       17.24   PETRF118 PETR PN 11,80   \n6   PETR4 PETROBRAS PN N2        PN       17.24   PETRF135 PETR PN 12,80   \n1   PETR4 PETROBRAS PN N2        PN       17.24   PETRF113 PETR PN 11,30   \n0   PETR4 PETROBRAS PN N2        PN       17.24     PETRF1 PETR PN 26,30   \n\n   tipo_opcao  valor opcao  strike  volume   lucro %  \n24         PN         1.52   17.30   294.0  8.816705  \n22         PN         1.65   17.05   222.0  8.468677  \n26         PN         1.39   17.80     0.0  8.062645  \n25         PN         1.38   17.55     0.0  8.004640  \n21         PN         1.79   16.80     0.0  7.830626  \n20         PN         1.97   16.55     0.0  7.424594  \n19         PN         2.09   16.30     0.0  6.670534  \n28         PN         1.15   18.05     0.0  6.670534  \n18         PN         2.28   16.05     0.0  6.322506  \n30         PN         1.06   18.30     0.0  6.148492  \n16         PN         2.46   15.80     0.0  5.916473  \n14         PN         2.66   15.55     0.0  5.626450  \n31         PN         0.95   18.55     0.0  5.510441  \n32         PN         0.89   18.80     0.0  5.162413  \n12         PN         2.80   15.30     0.0  4.988399  \n10         PN         3.52   14.55     0.0  4.814385  \n11         PN         2.98   15.05     0.0  4.582367  \n34         PN         0.78   19.05   261.0  4.524362  \n13         PN         3.20   14.80    36.0  4.408353  \n36         PN         0.70   19.30     0.0  4.060325  \n9          PN         3.62   14.30     0.0  3.944316  \n8          PN         3.85   14.05     0.0  3.828306  \n7          PN         4.06   13.80     0.0  3.596288  \n37         PN         0.56   19.80     0.0  3.248260  \n5          PN         4.45   13.30     0.0  2.958237  \n4          PN         5.44   12.30     0.0  2.900232  \n2          PN         5.92   11.80     0.0  2.784223  \n6          PN         4.88   12.80    40.0  2.552204  \n1          PN         6.36   11.30     0.0  2.436195  \n0          PN         0.06   26.30     0.0  0.348028  ",
      "text/html": "<div>\n<style scoped>\n    .dataframe tbody tr th:only-of-type {\n        vertical-align: middle;\n    }\n\n    .dataframe tbody tr th {\n        vertical-align: top;\n    }\n\n    .dataframe thead th {\n        text-align: right;\n    }\n</style>\n<table border=\"1\" class=\"dataframe\">\n  <thead>\n    <tr style=\"text-align: right;\">\n      <th></th>\n      <th>acao</th>\n      <th>tipo acao</th>\n      <th>valor acao</th>\n      <th>opcao</th>\n      <th>tipo_opcao</th>\n      <th>valor opcao</th>\n      <th>strike</th>\n      <th>volume</th>\n      <th>lucro %</th>\n    </tr>\n  </thead>\n  <tbody>\n    <tr>\n      <td>24</td>\n      <td>PETR4 PETROBRAS PN N2</td>\n      <td>PN</td>\n      <td>17.24</td>\n      <td>PETRF173 PETR PN 17,30</td>\n      <td>PN</td>\n      <td>1.52</td>\n      <td>17.30</td>\n      <td>294.0</td>\n      <td>8.816705</td>\n    </tr>\n    <tr>\n      <td>22</td>\n      <td>PETR4 PETROBRAS PN N2</td>\n      <td>PN</td>\n      <td>17.24</td>\n      <td>PETRF170 PETRE PN 17,05</td>\n      <td>PN</td>\n      <td>1.65</td>\n      <td>17.05</td>\n      <td>222.0</td>\n      <td>8.468677</td>\n    </tr>\n    <tr>\n      <td>26</td>\n      <td>PETR4 PETROBRAS PN N2</td>\n      <td>PN</td>\n      <td>17.24</td>\n      <td>PETRF178 PETR PN 17,80</td>\n      <td>PN</td>\n      <td>1.39</td>\n      <td>17.80</td>\n      <td>0.0</td>\n      <td>8.062645</td>\n    </tr>\n    <tr>\n      <td>25</td>\n      <td>PETR4 PETROBRAS PN N2</td>\n      <td>PN</td>\n      <td>17.24</td>\n      <td>PETRF175 PETRE PN 17,55</td>\n      <td>PN</td>\n      <td>1.38</td>\n      <td>17.55</td>\n      <td>0.0</td>\n      <td>8.004640</td>\n    </tr>\n    <tr>\n      <td>21</td>\n      <td>PETR4 PETROBRAS PN N2</td>\n      <td>PN</td>\n      <td>17.24</td>\n      <td>PETRF168 PETR PN 16,80</td>\n      <td>PN</td>\n      <td>1.79</td>\n      <td>16.80</td>\n      <td>0.0</td>\n      <td>7.830626</td>\n    </tr>\n    <tr>\n      <td>20</td>\n      <td>PETR4 PETROBRAS PN N2</td>\n      <td>PN</td>\n      <td>17.24</td>\n      <td>PETRF165 PETRE PN 16,55</td>\n      <td>PN</td>\n      <td>1.97</td>\n      <td>16.55</td>\n      <td>0.0</td>\n      <td>7.424594</td>\n    </tr>\n    <tr>\n      <td>19</td>\n      <td>PETR4 PETROBRAS PN N2</td>\n      <td>PN</td>\n      <td>17.24</td>\n      <td>PETRF163 PETR PN 16,30</td>\n      <td>PN</td>\n      <td>2.09</td>\n      <td>16.30</td>\n      <td>0.0</td>\n      <td>6.670534</td>\n    </tr>\n    <tr>\n      <td>28</td>\n      <td>PETR4 PETROBRAS PN N2</td>\n      <td>PN</td>\n      <td>17.24</td>\n      <td>PETRF180 PETRE PN 18,05</td>\n      <td>PN</td>\n      <td>1.15</td>\n      <td>18.05</td>\n      <td>0.0</td>\n      <td>6.670534</td>\n    </tr>\n    <tr>\n      <td>18</td>\n      <td>PETR4 PETROBRAS PN N2</td>\n      <td>PN</td>\n      <td>17.24</td>\n      <td>PETRF160 PETRE PN 16,05</td>\n      <td>PN</td>\n      <td>2.28</td>\n      <td>16.05</td>\n      <td>0.0</td>\n      <td>6.322506</td>\n    </tr>\n    <tr>\n      <td>30</td>\n      <td>PETR4 PETROBRAS PN N2</td>\n      <td>PN</td>\n      <td>17.24</td>\n      <td>PETRF183 PETR PN 18,30</td>\n      <td>PN</td>\n      <td>1.06</td>\n      <td>18.30</td>\n      <td>0.0</td>\n      <td>6.148492</td>\n    </tr>\n    <tr>\n      <td>16</td>\n      <td>PETR4 PETROBRAS PN N2</td>\n      <td>PN</td>\n      <td>17.24</td>\n      <td>PETRF158 PETR PN 15,80</td>\n      <td>PN</td>\n      <td>2.46</td>\n      <td>15.80</td>\n      <td>0.0</td>\n      <td>5.916473</td>\n    </tr>\n    <tr>\n      <td>14</td>\n      <td>PETR4 PETROBRAS PN N2</td>\n      <td>PN</td>\n      <td>17.24</td>\n      <td>PETRF156 PETRE PN 15,55</td>\n      <td>PN</td>\n      <td>2.66</td>\n      <td>15.55</td>\n      <td>0.0</td>\n      <td>5.626450</td>\n    </tr>\n    <tr>\n      <td>31</td>\n      <td>PETR4 PETROBRAS PN N2</td>\n      <td>PN</td>\n      <td>17.24</td>\n      <td>PETRF185 PETRE PN 18,55</td>\n      <td>PN</td>\n      <td>0.95</td>\n      <td>18.55</td>\n      <td>0.0</td>\n      <td>5.510441</td>\n    </tr>\n    <tr>\n      <td>32</td>\n      <td>PETR4 PETROBRAS PN N2</td>\n      <td>PN</td>\n      <td>17.24</td>\n      <td>PETRF188 PETR PN 18,80</td>\n      <td>PN</td>\n      <td>0.89</td>\n      <td>18.80</td>\n      <td>0.0</td>\n      <td>5.162413</td>\n    </tr>\n    <tr>\n      <td>12</td>\n      <td>PETR4 PETROBRAS PN N2</td>\n      <td>PN</td>\n      <td>17.24</td>\n      <td>PETRF153 PETR PN 15,30</td>\n      <td>PN</td>\n      <td>2.80</td>\n      <td>15.30</td>\n      <td>0.0</td>\n      <td>4.988399</td>\n    </tr>\n    <tr>\n      <td>10</td>\n      <td>PETR4 PETROBRAS PN N2</td>\n      <td>PN</td>\n      <td>17.24</td>\n      <td>PETRF145 PETRE PN 14,55</td>\n      <td>PN</td>\n      <td>3.52</td>\n      <td>14.55</td>\n      <td>0.0</td>\n      <td>4.814385</td>\n    </tr>\n    <tr>\n      <td>11</td>\n      <td>PETR4 PETROBRAS PN N2</td>\n      <td>PN</td>\n      <td>17.24</td>\n      <td>PETRF150 PETRE PN 15,05</td>\n      <td>PN</td>\n      <td>2.98</td>\n      <td>15.05</td>\n      <td>0.0</td>\n      <td>4.582367</td>\n    </tr>\n    <tr>\n      <td>34</td>\n      <td>PETR4 PETROBRAS PN N2</td>\n      <td>PN</td>\n      <td>17.24</td>\n      <td>PETRF190 PETRE PN 19,05</td>\n      <td>PN</td>\n      <td>0.78</td>\n      <td>19.05</td>\n      <td>261.0</td>\n      <td>4.524362</td>\n    </tr>\n    <tr>\n      <td>13</td>\n      <td>PETR4 PETROBRAS PN N2</td>\n      <td>PN</td>\n      <td>17.24</td>\n      <td>PETRF155 PETR PN 14,80</td>\n      <td>PN</td>\n      <td>3.20</td>\n      <td>14.80</td>\n      <td>36.0</td>\n      <td>4.408353</td>\n    </tr>\n    <tr>\n      <td>36</td>\n      <td>PETR4 PETROBRAS PN N2</td>\n      <td>PN</td>\n      <td>17.24</td>\n      <td>PETRF193 PETR PN 19,30</td>\n      <td>PN</td>\n      <td>0.70</td>\n      <td>19.30</td>\n      <td>0.0</td>\n      <td>4.060325</td>\n    </tr>\n    <tr>\n      <td>9</td>\n      <td>PETR4 PETROBRAS PN N2</td>\n      <td>PN</td>\n      <td>17.24</td>\n      <td>PETRF143 PETR PN 14,30</td>\n      <td>PN</td>\n      <td>3.62</td>\n      <td>14.30</td>\n      <td>0.0</td>\n      <td>3.944316</td>\n    </tr>\n    <tr>\n      <td>8</td>\n      <td>PETR4 PETROBRAS PN N2</td>\n      <td>PN</td>\n      <td>17.24</td>\n      <td>PETRF140 PETRE PN 14,05</td>\n      <td>PN</td>\n      <td>3.85</td>\n      <td>14.05</td>\n      <td>0.0</td>\n      <td>3.828306</td>\n    </tr>\n    <tr>\n      <td>7</td>\n      <td>PETR4 PETROBRAS PN N2</td>\n      <td>PN</td>\n      <td>17.24</td>\n      <td>PETRF138 PETR PN 13,80</td>\n      <td>PN</td>\n      <td>4.06</td>\n      <td>13.80</td>\n      <td>0.0</td>\n      <td>3.596288</td>\n    </tr>\n    <tr>\n      <td>37</td>\n      <td>PETR4 PETROBRAS PN N2</td>\n      <td>PN</td>\n      <td>17.24</td>\n      <td>PETRF198 PETR PN 19,80</td>\n      <td>PN</td>\n      <td>0.56</td>\n      <td>19.80</td>\n      <td>0.0</td>\n      <td>3.248260</td>\n    </tr>\n    <tr>\n      <td>5</td>\n      <td>PETR4 PETROBRAS PN N2</td>\n      <td>PN</td>\n      <td>17.24</td>\n      <td>PETRF133 PETR PN 13,30</td>\n      <td>PN</td>\n      <td>4.45</td>\n      <td>13.30</td>\n      <td>0.0</td>\n      <td>2.958237</td>\n    </tr>\n    <tr>\n      <td>4</td>\n      <td>PETR4 PETROBRAS PN N2</td>\n      <td>PN</td>\n      <td>17.24</td>\n      <td>PETRF123 PETR PN 12,30</td>\n      <td>PN</td>\n      <td>5.44</td>\n      <td>12.30</td>\n      <td>0.0</td>\n      <td>2.900232</td>\n    </tr>\n    <tr>\n      <td>2</td>\n      <td>PETR4 PETROBRAS PN N2</td>\n      <td>PN</td>\n      <td>17.24</td>\n      <td>PETRF118 PETR PN 11,80</td>\n      <td>PN</td>\n      <td>5.92</td>\n      <td>11.80</td>\n      <td>0.0</td>\n      <td>2.784223</td>\n    </tr>\n    <tr>\n      <td>6</td>\n      <td>PETR4 PETROBRAS PN N2</td>\n      <td>PN</td>\n      <td>17.24</td>\n      <td>PETRF135 PETR PN 12,80</td>\n      <td>PN</td>\n      <td>4.88</td>\n      <td>12.80</td>\n      <td>40.0</td>\n      <td>2.552204</td>\n    </tr>\n    <tr>\n      <td>1</td>\n      <td>PETR4 PETROBRAS PN N2</td>\n      <td>PN</td>\n      <td>17.24</td>\n      <td>PETRF113 PETR PN 11,30</td>\n      <td>PN</td>\n      <td>6.36</td>\n      <td>11.30</td>\n      <td>0.0</td>\n      <td>2.436195</td>\n    </tr>\n    <tr>\n      <td>0</td>\n      <td>PETR4 PETROBRAS PN N2</td>\n      <td>PN</td>\n      <td>17.24</td>\n      <td>PETRF1 PETR PN 26,30</td>\n      <td>PN</td>\n      <td>0.06</td>\n      <td>26.30</td>\n      <td>0.0</td>\n      <td>0.348028</td>\n    </tr>\n  </tbody>\n</table>\n</div>"
     },
     "metadata": {},
     "execution_count": 75
    }
   ],
   "source": [
    "day = datetime.today() - timedelta(days=1)\n",
    "teste = proc(acao, opcao, filter_date = day)\n",
    "teste.sort_values('lucro %', ascending=False)"
   ]
  },
  {
   "cell_type": "code",
   "execution_count": null,
   "metadata": {},
   "outputs": [],
   "source": []
  }
 ],
 "metadata": {
  "language_info": {
   "codemirror_mode": {
    "name": "ipython",
    "version": 3
   },
   "file_extension": ".py",
   "mimetype": "text/x-python",
   "name": "python",
   "nbconvert_exporter": "python",
   "pygments_lexer": "ipython3",
   "version": "3.7.4-final"
  },
  "orig_nbformat": 2,
  "kernelspec": {
   "name": "python3",
   "display_name": "Python 3"
  }
 },
 "nbformat": 4,
 "nbformat_minor": 2
}